{
 "cells": [
  {
   "cell_type": "markdown",
   "metadata": {},
   "source": [
    "# --- Day 7: Bridge Repair ---\n",
    "\n",
    "The Historians take you to a familiar rope bridge over a river in the middle of a jungle. The Chief isn't on this side of the bridge, though; maybe he's on the other side?\n",
    "\n",
    "When you go to cross the bridge, you notice a group of engineers trying to repair it. (Apparently, it breaks pretty frequently.) You won't be able to cross until it's fixed.\n",
    "\n",
    "You ask how long it'll take; the engineers tell you that it only needs final calibrations, but some young elephants were playing nearby and stole all the operators from their calibration equations! They could finish the calibrations if only someone could determine which test values could possibly be produced by placing any combination of operators into their calibration equations (your puzzle input).\n",
    "\n",
    "### Example:\n",
    "\n",
    "```\n",
    "190: 10 19\n",
    "3267: 81 40 27\n",
    "83: 17 5\n",
    "156: 15 6\n",
    "7290: 6 8 6 15\n",
    "161011: 16 10 13\n",
    "192: 17 8 14\n",
    "21037: 9 7 18 13\n",
    "292: 11 6 16 20\n",
    "```\n",
    "\n",
    "Each line represents a single equation. The test value appears before the colon on each line; it is your job to determine whether the remaining numbers can be combined with operators to produce the test value.\n",
    "\n",
    "Operators are always evaluated left-to-right, not according to precedence rules. Furthermore, numbers in the equations cannot be rearranged. Glancing into the jungle, you can see elephants holding two different types of operators: add (`+`) and multiply (`*`).\n",
    "\n",
    "### Example Analysis:\n",
    "\n",
    "Only three of the above equations can be made true by inserting operators:\n",
    "\n",
    "1. **`190: 10 19`**\n",
    "   - There is only one position for an operator: between 10 and 19.\n",
    "   - Choosing `+` gives 29, which is incorrect.\n",
    "   - Choosing `*` gives 190, which matches the test value.\n",
    "\n",
    "2. **`3267: 81 40 27`**\n",
    "   - There are two positions for operators.\n",
    "   - The four possible configurations of the operators are:\n",
    "     - `81 + 40 + 27 = 148` (incorrect)\n",
    "     - `81 + 40 * 27 = 3267` (correct)\n",
    "     - `81 * 40 + 27 = 3267` (correct)\n",
    "     - `81 * 40 * 27 = 87480` (incorrect)\n",
    "   - Two configurations match the test value.\n",
    "\n",
    "3. **`292: 11 6 16 20`**\n",
    "   - There are three positions for operators.\n",
    "   - The only configuration that works is: `11 + 6 * 16 + 20 = 292`.\n",
    "\n",
    "The other equations cannot be solved using the available operators.\n",
    "\n",
    "### Result:\n",
    "\n",
    "The engineers just need the total calibration result, which is the sum of the test values from the equations that could possibly be true. In the above example:\n",
    "\n",
    "- True equations: `190`, `3267`, `292`\n",
    "- Total calibration result: `190 + 3267 + 292 = 3749`\n",
    "\n",
    "---\n",
    "\n",
    "### Your Task:\n",
    "\n",
    "Determine which equations could possibly be true. What is their total calibration result?"
   ]
  },
  {
   "cell_type": "code",
   "execution_count": 50,
   "metadata": {},
   "outputs": [],
   "source": [
    "from typing import Type\n",
    "from abc import ABC, abstractmethod\n",
    "from dataclasses import dataclass, field\n",
    "from itertools import product\n",
    "\n",
    "\n",
    "class Operator(ABC):\n",
    "    @abstractmethod\n",
    "    def __call__(self, a: int, b: int) -> int:\n",
    "        pass\n",
    "\n",
    "\n",
    "class Add(Operator):\n",
    "    def __call__(self, a: int, b: int) -> int:\n",
    "        return a + b\n",
    "\n",
    "\n",
    "class Multiply(Operator):\n",
    "    def __call__(self, a: int, b: int) -> int:\n",
    "        return a * b\n",
    "\n",
    "\n",
    "@dataclass\n",
    "class Equation:\n",
    "    value: int\n",
    "    numbers: list[int]\n",
    "    op_types: list[Type[Operator]] = field(default_factory=list)\n",
    "\n",
    "    @staticmethod\n",
    "    def evaluate_l2r(numbers: list[int], operators: list[Operator]) -> int:\n",
    "        accum = numbers[0]\n",
    "        for operator, number in zip(operators, numbers[1:]):\n",
    "            accum = operator(accum, number)\n",
    "        return accum\n",
    "\n",
    "    def can_be_true(self) -> bool:\n",
    "        combinations = product(self.op_types, repeat=len(self.numbers) - 1)\n",
    "        for combination in combinations:\n",
    "            value = self.evaluate_l2r(self.numbers, combination)\n",
    "            if value == self.value:\n",
    "                return True\n",
    "        return False\n",
    "\n",
    "    @classmethod\n",
    "    def from_string(\n",
    "        cls, line: str, op_types: list[Type[Operator]], separator: str = \":\"\n",
    "    ) -> \"Equation\":\n",
    "        value, numbers = line.split(sep=separator)\n",
    "        return cls(\n",
    "            value=int(value),\n",
    "            numbers=[int(n) for n in numbers.split()],\n",
    "            op_types=op_types,\n",
    "        )\n",
    "\n",
    "\n",
    "def parse_equations(filepath: str, op_types: list[Type[Operator]]):\n",
    "    with open(filepath, \"r\", encoding=\"utf-8\") as f:\n",
    "        equations = [Equation.from_string(line, op_types) for line in f.readlines()]\n",
    "    return equations"
   ]
  },
  {
   "cell_type": "code",
   "execution_count": 52,
   "metadata": {},
   "outputs": [
    {
     "data": {
      "text/plain": [
       "3749"
      ]
     },
     "execution_count": 52,
     "metadata": {},
     "output_type": "execute_result"
    }
   ],
   "source": [
    "equations = parse_equations(\"./example.txt\", [Add(), Multiply()])\n",
    "sum(equation.value for equation in equations if equation.can_be_true())"
   ]
  },
  {
   "cell_type": "code",
   "execution_count": 54,
   "metadata": {},
   "outputs": [
    {
     "data": {
      "text/plain": [
       "303876485655"
      ]
     },
     "execution_count": 54,
     "metadata": {},
     "output_type": "execute_result"
    }
   ],
   "source": [
    "equations = parse_equations(\"./input.txt\", [Add(), Multiply()])\n",
    "sum(equation.value for equation in equations if equation.can_be_true())"
   ]
  },
  {
   "cell_type": "markdown",
   "metadata": {},
   "source": [
    "# Part Two\n",
    "\n",
    "The engineers seem concerned; the total calibration result you gave them is nowhere close to being within safety tolerances. Just then, you spot your mistake: some well-hidden elephants are holding a third type of operator.\n",
    "\n",
    "The **concatenation operator** (`||`) combines the digits from its left and right inputs into a single number. For example:\n",
    "\n",
    "- `12 || 345` would become `12345`.\n",
    "\n",
    "All operators are still evaluated **left-to-right**.\n",
    "\n",
    "Now, apart from the three equations that could be made true using only addition (`+`) and multiplication (`*`), the example has **three more equations** that can be made true by inserting the concatenation operator (`||`):\n",
    "\n",
    "1. **156**: `15 6` can be made true through a single concatenation:  \n",
    "   `15 || 6 = 156`.\n",
    "\n",
    "2. **7290**: `6 8 6 15` can be made true using:  \n",
    "   `6 * 8 || 6 * 15`.\n",
    "\n",
    "3. **192**: `17 8 14` can be made true using:  \n",
    "   `17 || 8 + 14`.\n",
    "\n",
    "Adding up **all six test values** (the three that could be made before using only `+` and `*`, plus the new three that can now be made by also using `||`) produces the new total calibration result of **11387**.\n",
    "\n",
    "---\n",
    "\n",
    "Using your new knowledge of elephant hiding spots, determine which equations could possibly be true. **What is their total calibration result?**"
   ]
  },
  {
   "cell_type": "code",
   "execution_count": 55,
   "metadata": {},
   "outputs": [
    {
     "data": {
      "text/plain": [
       "11387"
      ]
     },
     "execution_count": 55,
     "metadata": {},
     "output_type": "execute_result"
    }
   ],
   "source": [
    "class Concatenation(Operator):\n",
    "    def __call__(self, a: int, b: int) -> int:\n",
    "        return int(\"\".join(map(str, [a, b])))\n",
    "\n",
    "\n",
    "equations = parse_equations(\"./example.txt\", [Add(), Multiply(), Concatenation()])\n",
    "sum(equation.value for equation in equations if equation.can_be_true())"
   ]
  },
  {
   "cell_type": "code",
   "execution_count": 56,
   "metadata": {},
   "outputs": [
    {
     "data": {
      "text/plain": [
       "146111650210682"
      ]
     },
     "execution_count": 56,
     "metadata": {},
     "output_type": "execute_result"
    }
   ],
   "source": [
    "equations = parse_equations(\"./input.txt\", [Add(), Multiply(), Concatenation()])\n",
    "sum(equation.value for equation in equations if equation.can_be_true())"
   ]
  }
 ],
 "metadata": {
  "kernelspec": {
   "display_name": "AI",
   "language": "python",
   "name": "python3"
  },
  "language_info": {
   "codemirror_mode": {
    "name": "ipython",
    "version": 3
   },
   "file_extension": ".py",
   "mimetype": "text/x-python",
   "name": "python",
   "nbconvert_exporter": "python",
   "pygments_lexer": "ipython3",
   "version": "3.12.2"
  }
 },
 "nbformat": 4,
 "nbformat_minor": 2
}
