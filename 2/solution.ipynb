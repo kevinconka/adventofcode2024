{
 "cells": [
  {
   "cell_type": "markdown",
   "metadata": {},
   "source": [
    "# Day 2: Red-Nosed Reports\n",
    "\n",
    "Fortunately, the first location The Historians want to search isn't a long walk from the Chief Historian's office.\n",
    "\n",
    "While the Red-Nosed Reindeer nuclear fusion/fission plant appears to contain no sign of the Chief Historian, the engineers there run up to you as soon as they see you. Apparently, they still talk about the time Rudolph was saved through molecular synthesis from a single electron.\n",
    "\n",
    "They're quick to add that—since you're already here—they'd really appreciate your help analyzing some unusual data from the Red-Nosed reactor. You turn to check if The Historians are waiting for you, but they seem to have already divided into groups that are currently searching every corner of the facility. You offer to help with the unusual data.\n",
    "\n",
    "---\n",
    "\n",
    "## The Problem\n",
    "\n",
    "The unusual data (your puzzle input) consists of many reports, one report per line. Each report is a list of numbers called **levels** that are separated by spaces. For example:\n",
    "\n",
    "```\n",
    "7 6 4 2 1\n",
    "1 2 7 8 9\n",
    "9 7 6 2 1\n",
    "1 3 2 4 5\n",
    "8 6 4 4 1\n",
    "1 3 6 7 9\n",
    "```\n",
    "\n",
    "This example data contains six reports, each containing five levels.\n",
    "\n",
    "The engineers are trying to figure out which reports are safe. The Red-Nosed reactor safety systems can only tolerate levels that are either **gradually increasing** or **gradually decreasing**. So, a report only counts as safe if **both** of the following are true:\n",
    "\n",
    "1. The levels are either all increasing or all decreasing.\n",
    "2. Any two adjacent levels differ by at least 1 and at most 3.\n",
    "\n",
    "---\n",
    "\n",
    "### Example Analysis\n",
    "\n",
    "In the example above, the reports can be found safe or unsafe by checking those rules:\n",
    "\n",
    "- `7 6 4 2 1`: **Safe** because the levels are all decreasing by 1 or 2.\n",
    "- `1 2 7 8 9`: **Unsafe** because `2 7` is an increase of 5.\n",
    "- `9 7 6 2 1`: **Unsafe** because `6 2` is a decrease of 4.\n",
    "- `1 3 2 4 5`: **Unsafe** because `1 3` is increasing but `3 2` is decreasing.\n",
    "- `8 6 4 4 1`: **Unsafe** because `4 4` is neither an increase nor a decrease.\n",
    "- `1 3 6 7 9`: **Safe** because the levels are all increasing by 1, 2, or 3.\n",
    "\n",
    "In this example, **2 reports are safe**.\n",
    "\n",
    "---\n",
    "\n",
    "## Task\n",
    "\n",
    "Analyze the unusual data from the engineers. **How many reports are safe?**"
   ]
  },
  {
   "cell_type": "code",
   "execution_count": 1,
   "metadata": {},
   "outputs": [
    {
     "name": "stdout",
     "output_type": "stream",
     "text": [
      "2\n",
      "670\n"
     ]
    }
   ],
   "source": [
    "from typing import Callable\n",
    "import numpy as np\n",
    "\n",
    "\n",
    "def count_safe_reports(\n",
    "    report_file: str, is_safe_fn: Callable[[np.ndarray], bool]\n",
    ") -> int:\n",
    "    safe = 0\n",
    "    with open(report_file, \"r\", encoding=\"utf-8\") as f:\n",
    "        for line in f:\n",
    "            report = np.fromstring(line, dtype=int, sep=\" \")\n",
    "            safe += is_safe_fn(report)\n",
    "    return safe\n",
    "\n",
    "\n",
    "def is_safe(report: np.ndarray) -> bool:\n",
    "    diff = np.diff(report)\n",
    "    if not np.all(diff < 0) and not np.all(diff > 0):  # increasing or decreasing\n",
    "        return False\n",
    "    if np.any(np.abs(diff) > 3):  # differ by at most 3\n",
    "        return False\n",
    "    return True\n",
    "\n",
    "\n",
    "print(count_safe_reports(\"./example.txt\", is_safe))\n",
    "print(count_safe_reports(\"./input.txt\", is_safe))"
   ]
  },
  {
   "cell_type": "markdown",
   "metadata": {},
   "source": [
    "# Part Two\n",
    "\n",
    "The engineers are surprised by the low number of safe reports until they realize they forgot to tell you about the **Problem Dampener**.\n",
    "\n",
    "The Problem Dampener is a reactor-mounted module that lets the reactor safety systems tolerate a single bad level in what would otherwise be a safe report. It's like the bad level never happened!\n",
    "\n",
    "Now, the same rules apply as before, except if removing a single level from an unsafe report would make it safe, the report instead counts as safe.\n",
    "\n",
    "---\n",
    "\n",
    "## Example Analysis with the Problem Dampener\n",
    "\n",
    "Using the same example data:\n",
    "\n",
    "```\n",
    "7 6 4 2 1\n",
    "1 2 7 8 9\n",
    "9 7 6 2 1\n",
    "1 3 2 4 5\n",
    "8 6 4 4 1\n",
    "1 3 6 7 9\n",
    "```\n",
    "\n",
    "Here is the updated analysis:\n",
    "\n",
    "- `7 6 4 2 1`: **Safe** without removing any level.\n",
    "- `1 2 7 8 9`: **Unsafe** regardless of which level is removed.\n",
    "- `9 7 6 2 1`: **Unsafe** regardless of which level is removed.\n",
    "- `1 3 2 4 5`: **Safe** by removing the second level, `3`.\n",
    "- `8 6 4 4 1`: **Safe** by removing the third level, `4`.\n",
    "- `1 3 6 7 9`: **Safe** without removing any level.\n",
    "\n",
    "---\n",
    "\n",
    "### Updated Count\n",
    "\n",
    "Thanks to the Problem Dampener, **4 reports** are now safe.\n",
    "\n",
    "---\n",
    "\n",
    "## Task\n",
    "\n",
    "Update your analysis by handling situations where the Problem Dampener can remove a single level from unsafe reports. **How many reports are now safe?**"
   ]
  },
  {
   "cell_type": "code",
   "execution_count": 2,
   "metadata": {},
   "outputs": [
    {
     "name": "stdout",
     "output_type": "stream",
     "text": [
      "4\n",
      "700\n"
     ]
    }
   ],
   "source": [
    "def is_safe_with_dampener(report: np.ndarray) -> bool:\n",
    "    if is_safe(report):\n",
    "        return True  # safe without dampening\n",
    "    for i in range(len(report)):\n",
    "        if is_safe(np.delete(report, i)):\n",
    "            return True  # safe with dampening\n",
    "    return False\n",
    "\n",
    "\n",
    "print(count_safe_reports(\"./example.txt\", is_safe_with_dampener))\n",
    "print(count_safe_reports(\"./input.txt\", is_safe_with_dampener))"
   ]
  }
 ],
 "metadata": {
  "kernelspec": {
   "display_name": "AI",
   "language": "python",
   "name": "python3"
  },
  "language_info": {
   "codemirror_mode": {
    "name": "ipython",
    "version": 3
   },
   "file_extension": ".py",
   "mimetype": "text/x-python",
   "name": "python",
   "nbconvert_exporter": "python",
   "pygments_lexer": "ipython3",
   "version": "3.12.2"
  }
 },
 "nbformat": 4,
 "nbformat_minor": 2
}
