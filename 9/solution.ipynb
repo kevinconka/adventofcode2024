{
 "cells": [
  {
   "cell_type": "markdown",
   "metadata": {},
   "source": [
    "# Day 9: Disk Fragmenter\n",
    "\n",
    "Another push of the button leaves you in the familiar hallways of some friendly amphipods! Good thing you each somehow got your own personal mini submarine. The Historians jet away in search of the Chief, mostly by driving directly into walls.\n",
    "\n",
    "While The Historians quickly figure out how to pilot these things, you notice an amphipod in the corner struggling with his computer. He's trying to make more contiguous free space by compacting all of the files, but his program isn't working; you offer to help.\n",
    "\n",
    "He shows you the disk map (your puzzle input) he's already generated. For example:\n",
    "\n",
    "```\n",
    "2333133121414131402\n",
    "```\n",
    "\n",
    "The disk map uses a dense format to represent the layout of files and free space on the disk. The digits alternate between indicating the length of a file and the length of free space.\n",
    "\n",
    "So, a disk map like `12345` would represent a one-block file, two blocks of free space, a three-block file, four blocks of free space, and then a five-block file. A disk map like `90909` would represent three nine-block files in a row (with no free space between them).\n",
    "\n",
    "Each file on disk also has an ID number based on the order of the files as they appear before they are rearranged, starting with ID 0. So, the disk map `12345` has three files: a one-block file with ID 0, a three-block file with ID 1, and a five-block file with ID 2. Using one character for each block where digits are the file ID and `.` is free space, the disk map `12345` represents these individual blocks:\n",
    "\n",
    "```\n",
    "0..111....22222\n",
    "```\n",
    "\n",
    "The first example above, `2333133121414131402`, represents these individual blocks:\n",
    "\n",
    "```\n",
    "00...111...2...333.44.5555.6666.777.888899\n",
    "```\n",
    "\n",
    "The amphipod would like to move file blocks one at a time from the end of the disk to the leftmost free space block (until there are no gaps remaining between file blocks). For the disk map `12345`, the process looks like this:\n",
    "\n",
    "```\n",
    "0..111....22222\n",
    "02.111....2222.\n",
    "022111....222..\n",
    "0221112...22...\n",
    "02211122..2....\n",
    "022111222......\n",
    "```\n",
    "\n",
    "The first example requires a few more steps:\n",
    "\n",
    "```\n",
    "00...111...2...333.44.5555.6666.777.888899\n",
    "009..111...2...333.44.5555.6666.777.88889.\n",
    "0099.111...2...333.44.5555.6666.777.8888..\n",
    "00998111...2...333.44.5555.6666.777.888...\n",
    "009981118..2...333.44.5555.6666.777.88....\n",
    "0099811188.2...333.44.5555.6666.777.8.....\n",
    "009981118882...333.44.5555.6666.777.......\n",
    "0099811188827..333.44.5555.6666.77........\n",
    "00998111888277.333.44.5555.6666.7.........\n",
    "009981118882777333.44.5555.6666...........\n",
    "009981118882777333644.5555.666............\n",
    "00998111888277733364465555.66.............\n",
    "0099811188827773336446555566..............\n",
    "```\n",
    "\n",
    "The final step of this file-compacting process is to update the filesystem checksum. To calculate the checksum, add up the result of multiplying each of these blocks' position with the file ID number it contains. The leftmost block is in position 0. If a block contains free space, skip it instead.\n",
    "\n",
    "Continuing the first example, the first few blocks' position multiplied by its file ID number are:\n",
    "\n",
    "- `0 * 0 = 0`\n",
    "- `1 * 0 = 0`\n",
    "- `2 * 9 = 18`\n",
    "- `3 * 9 = 27`\n",
    "- `4 * 8 = 32`\n",
    "\n",
    "... and so on. In this example, the checksum is the sum of these, `1928`.\n",
    "\n",
    "---\n",
    "\n",
    "## Task\n",
    "\n",
    "Compact the amphipod's hard drive using the process he requested. What is the resulting filesystem checksum?"
   ]
  },
  {
   "cell_type": "code",
   "execution_count": 1,
   "metadata": {},
   "outputs": [
    {
     "name": "stdout",
     "output_type": "stream",
     "text": [
      "00...111...2...333.44.5555.6666.777.888899\n",
      "009..111...2...333.44.5555.6666.777.88889.\n",
      "0099.111...2...333.44.5555.6666.777.8888..\n",
      "00998111...2...333.44.5555.6666.777.888...\n",
      "009981118..2...333.44.5555.6666.777.88....\n",
      "0099811188.2...333.44.5555.6666.777.8.....\n",
      "009981118882...333.44.5555.6666.777.......\n",
      "0099811188827..333.44.5555.6666.77........\n",
      "00998111888277.333.44.5555.6666.7.........\n",
      "009981118882777333.44.5555.6666...........\n",
      "009981118882777333644.5555.666............\n",
      "00998111888277733364465555.66.............\n",
      "0099811188827773336446555566..............\n",
      "0099811188827773336446555566..............\n",
      "Checksum: 1928\n"
     ]
    }
   ],
   "source": [
    "import itertools\n",
    "\n",
    "\n",
    "class Disk:\n",
    "    def __init__(self, filepath: str):\n",
    "        self.filepath = filepath\n",
    "        self.disk_map = self._read_disk_map()\n",
    "        self.blocks = self._get_blocks()\n",
    "\n",
    "    def _read_disk_map(self) -> list[str]:\n",
    "        \"\"\"Reads the disk map from the file.\"\"\"\n",
    "        with open(self.filepath, \"r\", encoding=\"utf-8\") as f:\n",
    "            return [list(line.strip()) for line in f][0]\n",
    "\n",
    "    @staticmethod\n",
    "    def _is_odd(x: int) -> bool:\n",
    "        \"\"\"Checks if a number is odd.\"\"\"\n",
    "        return x & 1 == 0\n",
    "\n",
    "    @staticmethod\n",
    "    def _is_free(block: int) -> bool:\n",
    "        \"\"\"Checks if a block is free (negative value).\"\"\"\n",
    "        return block < 0\n",
    "\n",
    "    @staticmethod\n",
    "    def _repeat_n_times(a: int, n: int) -> list[int]:\n",
    "        \"\"\"Repeats a value `a` `n` times.\"\"\"\n",
    "        return [a] * n\n",
    "\n",
    "    def _get_blocks(self) -> list[int]:\n",
    "        \"\"\"Converts the disk map into a list of blocks.\"\"\"\n",
    "        block_groups = [\n",
    "            self._repeat_n_times(-1 if self._is_odd(i + 1) else i // 2, int(s))\n",
    "            for i, s in enumerate(self.disk_map, start=0)\n",
    "        ]\n",
    "        return list(itertools.chain.from_iterable(block_groups))\n",
    "\n",
    "    def move_single_files(self, verbose: bool = False) -> None:\n",
    "        \"\"\"Moves file blocks one at a time from end to leftmost free space\"\"\"\n",
    "        file_idx = len(self.blocks) - 1\n",
    "        i = 0\n",
    "\n",
    "        while file_idx > i:\n",
    "            if self._is_free(self.blocks[file_idx]):\n",
    "                file_idx -= 1\n",
    "                continue\n",
    "            if self._is_free(self.blocks[i]):\n",
    "                # simultaneous assignment\n",
    "                self.blocks[i], self.blocks[file_idx] = (\n",
    "                    self.blocks[file_idx],\n",
    "                    self.blocks[i],\n",
    "                )\n",
    "                if verbose:\n",
    "                    self.print_blocks()\n",
    "            i += 1\n",
    "\n",
    "    def checksum(self) -> int:\n",
    "        \"\"\"Calculates the checksum of the disk.\"\"\"\n",
    "        return sum(\n",
    "            i * block for i, block in enumerate(self.blocks) if not self._is_free(block)\n",
    "        )\n",
    "\n",
    "    def print_blocks(self, blocks: list[int] = None) -> None:\n",
    "        \"\"\"Prints the disk blocks as a visual representation.\"\"\"\n",
    "        if not blocks:\n",
    "            blocks = self.blocks\n",
    "        print(\"\".join(\".\" if self._is_free(block) else str(block) for block in blocks))\n",
    "\n",
    "\n",
    "# Usage\n",
    "disk = Disk(\"./example.txt\")\n",
    "disk.print_blocks()\n",
    "disk.move_single_files(verbose=True)\n",
    "disk.print_blocks()\n",
    "print(\"Checksum:\", disk.checksum())"
   ]
  },
  {
   "cell_type": "code",
   "execution_count": 2,
   "metadata": {},
   "outputs": [
    {
     "name": "stdout",
     "output_type": "stream",
     "text": [
      "Checksum: 6398608069280\n"
     ]
    }
   ],
   "source": [
    "disk = Disk(\"./input.txt\")\n",
    "disk.move_single_files(verbose=False)\n",
    "print(\"Checksum:\", disk.checksum())"
   ]
  },
  {
   "cell_type": "markdown",
   "metadata": {},
   "source": [
    "# Part Two\n",
    "\n",
    "Upon completion, two things immediately become clear. First, the disk definitely has a lot more contiguous free space, just like the amphipod hoped. Second, the computer is running much more slowly! Maybe introducing all of that file system fragmentation was a bad idea?\n",
    "\n",
    "The eager amphipod already has a new plan: rather than move individual blocks, he'd like to try compacting the files on his disk by moving whole files instead.\n",
    "\n",
    "This time, attempt to move whole files to the leftmost span of free space blocks that could fit the file. Attempt to move each file exactly once in order of decreasing file ID number, starting with the file with the highest file ID number. If there is no span of free space to the left of a file that is large enough to fit the file, the file does not move.\n",
    "\n",
    "The first example from above now proceeds differently:\n",
    "\n",
    "```\n",
    "00...111...2...333.44.5555.6666.777.888899\n",
    "0099.111...2...333.44.5555.6666.777.8888..\n",
    "0099.1117772...333.44.5555.6666.....8888..\n",
    "0099.111777244.333....5555.6666.....8888..\n",
    "00992111777.44.333....5555.6666.....8888..\n",
    "```\n",
    "\n",
    "The process of updating the filesystem checksum is the same; now, this example's checksum would be `2858`.\n",
    "\n",
    "Start over, now compacting the amphipod's hard drive using this new method instead. What is the resulting filesystem checksum?"
   ]
  },
  {
   "cell_type": "code",
   "execution_count": 3,
   "metadata": {},
   "outputs": [
    {
     "data": {
      "application/vnd.jupyter.widget-view+json": {
       "model_id": "4828822e0e0b4d739d9896311edf86fa",
       "version_major": 2,
       "version_minor": 0
      },
      "text/plain": [
       "Processing ID:   0%|          | 0/10 [00:00<?, ?it/s]"
      ]
     },
     "metadata": {},
     "output_type": "display_data"
    },
    {
     "name": "stdout",
     "output_type": "stream",
     "text": [
      "0099.111...2...333.44.5555.6666.777.8888..\n",
      "0099.1117772...333.44.5555.6666.....8888..\n",
      "0099.111777244.333....5555.6666.....8888..\n",
      "00992111777.44.333....5555.6666.....8888..\n",
      "Checksum: 2858\n"
     ]
    }
   ],
   "source": [
    "from tqdm.auto import tqdm\n",
    "\n",
    "\n",
    "class Disk2(Disk):\n",
    "    @staticmethod\n",
    "    def _is_free_group(blocks: int) -> bool:\n",
    "        \"\"\"Checks if a block is free (negative value).\"\"\"\n",
    "        return all(block < 0 for block in blocks)\n",
    "\n",
    "    def move_whole_files(self, verbose: bool = False):\n",
    "        for _id in tqdm(range(max(self.blocks), -1, -1), desc=\"Processing ID\"):\n",
    "            groups = [list(group) for _, group in itertools.groupby(self.blocks)]\n",
    "            target_idx = next((i for i, g in enumerate(groups) if _id in g), None)\n",
    "\n",
    "            for i, group in enumerate(groups):\n",
    "                if i >= target_idx:\n",
    "                    break  # free space only to the left\n",
    "                if not self._is_free_group(group):\n",
    "                    continue\n",
    "                len_free, len_target = len(group), len(groups[target_idx])\n",
    "                if len_target > len_free:  # whole block does NOT fit in free block\n",
    "                    continue\n",
    "\n",
    "                group[:len_target], groups[target_idx] = (\n",
    "                    groups[target_idx],\n",
    "                    group[:len_target],\n",
    "                )  # simultaneous assignment\n",
    "\n",
    "                # update blocks\n",
    "                self.blocks = list(itertools.chain.from_iterable(groups))\n",
    "                if verbose:\n",
    "                    self.print_blocks()\n",
    "                break\n",
    "\n",
    "\n",
    "disk = Disk2(\"./example.txt\")\n",
    "disk.move_whole_files(verbose=True)\n",
    "print(\"Checksum:\", disk.checksum())"
   ]
  },
  {
   "cell_type": "code",
   "execution_count": 4,
   "metadata": {},
   "outputs": [
    {
     "data": {
      "application/vnd.jupyter.widget-view+json": {
       "model_id": "c965bbe4de2b4d098e2342cb43b128bc",
       "version_major": 2,
       "version_minor": 0
      },
      "text/plain": [
       "Processing ID:   0%|          | 0/10000 [00:00<?, ?it/s]"
      ]
     },
     "metadata": {},
     "output_type": "display_data"
    },
    {
     "name": "stdout",
     "output_type": "stream",
     "text": [
      "Checksum: 6427437134372\n"
     ]
    }
   ],
   "source": [
    "disk = Disk2(\"./input.txt\")\n",
    "disk.move_whole_files(verbose=False)\n",
    "print(\"Checksum:\", disk.checksum())"
   ]
  }
 ],
 "metadata": {
  "kernelspec": {
   "display_name": "AI",
   "language": "python",
   "name": "python3"
  },
  "language_info": {
   "codemirror_mode": {
    "name": "ipython",
    "version": 3
   },
   "file_extension": ".py",
   "mimetype": "text/x-python",
   "name": "python",
   "nbconvert_exporter": "python",
   "pygments_lexer": "ipython3",
   "version": "3.12.8"
  }
 },
 "nbformat": 4,
 "nbformat_minor": 2
}
