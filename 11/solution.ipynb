{
 "cells": [
  {
   "cell_type": "markdown",
   "metadata": {},
   "source": [
    "# --- Day 11: Plutonian Pebbles ---\n",
    "\n",
    "The ancient civilization on Pluto was known for its ability to manipulate spacetime, and while The Historians explore their infinite corridors, you've noticed a strange set of physics-defying stones.\n",
    "\n",
    "At first glance, they seem like normal stones: they're arranged in a perfectly straight line, and each stone has a number engraved on it.\n",
    "\n",
    "The strange part is that every time you blink, the stones change.\n",
    "\n",
    "- Sometimes, the number engraved on a stone changes.\n",
    "- Other times, a stone might split in two, causing all the other stones to shift over a bit to make room in their perfectly straight line.\n",
    "\n",
    "As you observe them for a while, you find that the stones have a consistent behavior. Every time you blink, the stones each simultaneously change according to the first applicable rule in this list:\n",
    "\n",
    "1. **If the stone is engraved with the number `0`, it is replaced by a stone engraved with the number `1`.**\n",
    "2. **If the stone is engraved with a number that has an even number of digits, it is replaced by two stones.**  \n",
    "   The left half of the digits are engraved on the new left stone, and the right half of the digits are engraved on the new right stone.  \n",
    "   *(The new numbers don't keep extra leading zeroes: `1000` would become stones `10` and `0`.)*\n",
    "3. **If none of the other rules apply, the stone is replaced by a new stone; the old stone's number multiplied by `2024` is engraved on the new stone.**\n",
    "\n",
    "No matter how the stones change, their order is preserved, and they stay on their perfectly straight line.\n",
    "\n",
    "---\n",
    "\n",
    "### Task\n",
    "\n",
    "How will the stones evolve if you keep blinking at them? You take a note of the number engraved on each stone in the line (your puzzle input).\n",
    "\n",
    "---\n",
    "\n",
    "### Example\n",
    "\n",
    "If you have an arrangement of five stones engraved with the numbers `0 1 10 99 999` and you blink once, the stones transform as follows:\n",
    "\n",
    "1. The first stone, `0`, becomes a stone marked `1`.\n",
    "2. The second stone, `1`, is multiplied by `2024` to become `2024`.\n",
    "3. The third stone, `10`, is split into a stone marked `1` followed by a stone marked `0`.\n",
    "4. The fourth stone, `99`, is split into two stones marked `9`.\n",
    "5. The fifth stone, `999`, is replaced by a stone marked `2021976`.\n",
    "\n",
    "So, after blinking once, your five stones would become an arrangement of seven stones engraved with the numbers:\n",
    "\n",
    "`1 2024 1 0 9 9 2021976`\n",
    "\n",
    "---\n",
    "\n",
    "Here is a longer example:\n",
    "\n",
    "**Initial arrangement:**\n",
    "```\n",
    "125 17\n",
    "```\n",
    "\n",
    "**After 1 blink:**\n",
    "```\n",
    "253000 1 7\n",
    "```\n",
    "\n",
    "**After 2 blinks:**\n",
    "```\n",
    "253 0 2024 14168\n",
    "```\n",
    "\n",
    "**After 3 blinks:**\n",
    "```\n",
    "512072 1 20 24 28676032\n",
    "```\n",
    "\n",
    "**After 4 blinks:**\n",
    "```\n",
    "512 72 2024 2 0 2 4 2867 6032\n",
    "```\n",
    "\n",
    "**After 5 blinks:**\n",
    "```\n",
    "1036288 7 2 20 24 4048 1 4048 8096 28 67 60 32\n",
    "```\n",
    "\n",
    "**After 6 blinks:**\n",
    "```\n",
    "2097446912 14168 4048 2 0 2 4 40 48 2024 40 48 80 96 2 8 6 7 6 0 3 2\n",
    "```\n",
    "\n",
    "In this example, after blinking six times, you would have `22` stones. After blinking `25` times, you would have `55312` stones!\n",
    "\n",
    "---\n",
    "\n",
    "### Puzzle\n",
    "\n",
    "Consider the arrangement of stones in front of you. **How many stones will you have after blinking 25 times?**\n"
   ]
  },
  {
   "cell_type": "code",
   "execution_count": 1,
   "metadata": {},
   "outputs": [
    {
     "name": "stdout",
     "output_type": "stream",
     "text": [
      "StonesLine(stones=[1, 2024, 1, 0, 9, 9, 2021976])\n"
     ]
    },
    {
     "data": {
      "text/plain": [
       "7"
      ]
     },
     "execution_count": 1,
     "metadata": {},
     "output_type": "execute_result"
    }
   ],
   "source": [
    "from abc import ABC, abstractmethod\n",
    "from dataclasses import dataclass\n",
    "import itertools\n",
    "\n",
    "\n",
    "@dataclass\n",
    "class Rule(ABC):\n",
    "\n",
    "    @abstractmethod\n",
    "    def is_applicable(self, stone: int) -> bool:\n",
    "        pass\n",
    "\n",
    "    @abstractmethod\n",
    "    def __call__(self, stone: int) -> list[int]:\n",
    "        pass\n",
    "\n",
    "\n",
    "class ReplaceWithOne(Rule):\n",
    "    def is_applicable(self, stone: int) -> bool:\n",
    "        return stone == 0\n",
    "\n",
    "    def __call__(self, stone: int) -> list[int]:\n",
    "        return [1]\n",
    "\n",
    "\n",
    "class SplitInTwoIfEvenLen(Rule):\n",
    "    def is_applicable(self, stone: int) -> bool:\n",
    "        return len(str(stone)) & 1 == 0  # is even\n",
    "\n",
    "    def __call__(self, stone: int) -> list[int]:\n",
    "        number_str = str(stone)\n",
    "        mid_point = (len(number_str) + 1) // 2\n",
    "        half_l, half_r = number_str[:mid_point], number_str[mid_point:]\n",
    "        return [int(half_l), int(half_r)]\n",
    "\n",
    "\n",
    "class MultiplyBy2024(Rule):\n",
    "    def is_applicable(self, stone: int) -> bool:\n",
    "        return True  # default rule (?)\n",
    "\n",
    "    def __call__(self, stone: int) -> list[Rule]:\n",
    "        return [stone * 2024]\n",
    "\n",
    "\n",
    "@dataclass\n",
    "class StonesLine:\n",
    "    stones: list[int]\n",
    "\n",
    "    def __len__(self):\n",
    "        return len(self.stones)\n",
    "\n",
    "    def change(self, rules: list[Rule]):\n",
    "        for i, stone in enumerate(self.stones):\n",
    "            for rule in rules:\n",
    "                if rule.is_applicable(stone):\n",
    "                    self.stones[i] = rule(stone)\n",
    "                    break\n",
    "        # flatten stones\n",
    "        self.stones = list(itertools.chain.from_iterable(self.stones))\n",
    "\n",
    "    @classmethod\n",
    "    def from_numbers(cls, numbers: list[int]) -> \"StonesLine\":\n",
    "        return cls([int(n) for n in numbers])\n",
    "    \n",
    "    @classmethod\n",
    "    def from_file(cls, filepath: str) -> \"StonesLine\":\n",
    "        with open(filepath, \"r\", encoding=\"utf-8\") as f:\n",
    "            content = f.read()\n",
    "        return cls([int(stone) for stone in content.split()])\n",
    "\n",
    "rules = [ReplaceWithOne(), SplitInTwoIfEvenLen(), MultiplyBy2024()]\n",
    "\n",
    "stones = StonesLine.from_numbers([0, 1, 10, 99, 999])\n",
    "n_blinks = 1\n",
    "for _ in range(n_blinks):\n",
    "    stones.change(rules=rules)\n",
    "    print(stones)\n",
    "len(stones)"
   ]
  },
  {
   "cell_type": "code",
   "execution_count": 2,
   "metadata": {},
   "outputs": [
    {
     "name": "stdout",
     "output_type": "stream",
     "text": [
      "[6] 22: StonesLine(stones=[2097446912, 14168, 4048, 2, 0, 2, 4, 40, 48, 2024, 40, 48, 80, 96, 2, 8, 6, 7, 6, 0, 3, 2])\n"
     ]
    },
    {
     "data": {
      "text/plain": [
       "55312"
      ]
     },
     "execution_count": 2,
     "metadata": {},
     "output_type": "execute_result"
    }
   ],
   "source": [
    "stones = StonesLine.from_file(\"./example.txt\")\n",
    "n_blinks = 25\n",
    "for i in range(n_blinks):\n",
    "    stones.change(rules=rules)\n",
    "    if i+1 == 6:\n",
    "        print(f\"[{i+1}] {len(stones)}: {stones}\")\n",
    "len(stones)"
   ]
  },
  {
   "cell_type": "code",
   "execution_count": 3,
   "metadata": {},
   "outputs": [
    {
     "data": {
      "text/plain": [
       "197157"
      ]
     },
     "execution_count": 3,
     "metadata": {},
     "output_type": "execute_result"
    }
   ],
   "source": [
    "stones = StonesLine.from_file(\"./input.txt\")\n",
    "n_blinks = 25\n",
    "for _ in range(n_blinks):\n",
    "    stones.change(rules=rules)\n",
    "len(stones)"
   ]
  },
  {
   "cell_type": "markdown",
   "metadata": {},
   "source": [
    "# --- Part Two ---\n",
    "The Historians sure are taking a long time. To be fair, the infinite corridors are very large.\n",
    "\n",
    "How many stones would you have after blinking a total of 75 times?"
   ]
  },
  {
   "cell_type": "code",
   "execution_count": 4,
   "metadata": {},
   "outputs": [],
   "source": [
    "# from tqdm.auto import trange\n",
    "\n",
    "# stones = StonesLine.from_file(\"./input.txt\")\n",
    "# n_blinks = 75\n",
    "# for _ in trange(n_blinks):\n",
    "#     stones.change(rules=rules)\n",
    "#     print(len(stones))\n",
    "# len(stones)"
   ]
  }
 ],
 "metadata": {
  "kernelspec": {
   "display_name": "AI",
   "language": "python",
   "name": "python3"
  },
  "language_info": {
   "codemirror_mode": {
    "name": "ipython",
    "version": 3
   },
   "file_extension": ".py",
   "mimetype": "text/x-python",
   "name": "python",
   "nbconvert_exporter": "python",
   "pygments_lexer": "ipython3",
   "version": "3.12.2"
  }
 },
 "nbformat": 4,
 "nbformat_minor": 2
}
